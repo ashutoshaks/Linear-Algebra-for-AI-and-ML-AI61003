{
  "nbformat": 4,
  "nbformat_minor": 0,
  "metadata": {
    "colab": {
      "name": "mnist_ls.ipynb",
      "provenance": []
    },
    "kernelspec": {
      "name": "python3",
      "display_name": "Python 3"
    },
    "language_info": {
      "name": "python"
    }
  },
  "cells": [
    {
      "cell_type": "code",
      "metadata": {
        "id": "ecWna3sE4MHt"
      },
      "source": [
        "import numpy as np\n",
        "from tensorflow.keras.datasets import mnist\n",
        "import seaborn as sns\n",
        "import matplotlib.pyplot as plt"
      ],
      "execution_count": 106,
      "outputs": []
    },
    {
      "cell_type": "code",
      "metadata": {
        "id": "wi2eUuG5DLQ5"
      },
      "source": [
        "def load_mnist_data():\n",
        "    (x_train, y_train), (x_test, y_test) = mnist.load_data()\n",
        "\n",
        "    # reshape and normalize training and test data\n",
        "    x_train = x_train.reshape(x_train.shape[0], -1) / 255\n",
        "    x_test = x_test.reshape(x_test.shape[0], -1) / 255\n",
        "\n",
        "    digit_images = []\n",
        "    labels = []\n",
        "    for i in range(10):\n",
        "        images = x_train[y_train == i]\n",
        "        digit_images.append(images[np.random.choice(len(images), \n",
        "                            1000, replace=False)])\n",
        "        labels.append(np.full((1000,), i))\n",
        "\n",
        "    x_train = np.vstack(digit_images)\n",
        "    y_train = np.hstack(labels)\n",
        "\n",
        "    # shuffle training data\n",
        "    order = np.random.permutation(x_train.shape[0])\n",
        "    x_train = x_train[order]\n",
        "    y_train = y_train[order]\n",
        "\n",
        "    # take 1000 examples for the test set\n",
        "    test_indices = np.random.choice(x_test.shape[0], 1000)\n",
        "    x_test = x_test[test_indices]\n",
        "    y_test = y_test[test_indices]\n",
        "    return (x_train, y_train), (x_test, y_test)"
      ],
      "execution_count": 107,
      "outputs": []
    },
    {
      "cell_type": "code",
      "metadata": {
        "id": "K3kZEyDZDjnH"
      },
      "source": [
        "def least_squares(A, b, factor=1.0):\n",
        "    return np.linalg.inv((A.T @ A) + factor * np.eye(A.shape[1])) @ (A.T @ b)"
      ],
      "execution_count": 108,
      "outputs": []
    },
    {
      "cell_type": "code",
      "metadata": {
        "id": "uJAk6aGvDk2v"
      },
      "source": [
        "def confusion_matrix(y_true, y_pred, num_labels):\n",
        "    matrix = np.zeros(shape=(num_labels, num_labels), dtype=int)\n",
        "    for i in range(len(y_pred)):\n",
        "        matrix[y_true[i], y_pred[i]] += 1\n",
        "    return matrix"
      ],
      "execution_count": 109,
      "outputs": []
    },
    {
      "cell_type": "code",
      "metadata": {
        "id": "4ELbIS3cDqqn"
      },
      "source": [
        "def main():\n",
        "    (x_train, y_train), (x_test, y_test) = load_mnist_data()\n",
        "    coeff = np.zeros((x_train.shape[1], 10))\n",
        "    for i in range(10):\n",
        "        b = 2 * (y_train == i) - 1\n",
        "        coeff[:, i] = least_squares(x_train, b)\n",
        "    preds = np.argmax(x_test @ coeff, axis=1).astype(int)\n",
        "    print(f'Accuracy : {(np.mean(preds == y_test) * 100):.4f}%\\n')\n",
        "    \n",
        "    cnf_mat = confusion_matrix(y_test, preds, 10)\n",
        "    sns.heatmap(cnf_mat, annot=True, cmap='Blues', fmt='d')\n",
        "    plt.xlabel('Predicted Label')\n",
        "    plt.ylabel('True Label')\n",
        "    plt.title('Confusion Matrix')\n",
        "    plt.show()"
      ],
      "execution_count": 110,
      "outputs": []
    },
    {
      "cell_type": "code",
      "metadata": {
        "colab": {
          "base_uri": "https://localhost:8080/",
          "height": 329
        },
        "id": "MgrLcg3KEPFQ",
        "outputId": "5aef119c-e7bd-470c-d92f-d0fdbec4388c"
      },
      "source": [
        "if __name__ == \"__main__\":\n",
        "    main()"
      ],
      "execution_count": 111,
      "outputs": [
        {
          "output_type": "stream",
          "name": "stdout",
          "text": [
            "Accuracy : 84.9000%\n",
            "\n"
          ]
        },
        {
          "output_type": "display_data",
          "data": {
            "image/png": "[encoded data removed]",
            "text/plain": [
              "<Figure size 432x288 with 2 Axes>"
            ]
          },
          "metadata": {
            "needs_background": "light"
          }
        }
      ]
    }
  ]
}